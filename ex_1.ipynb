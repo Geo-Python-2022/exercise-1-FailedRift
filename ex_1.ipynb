{
 "cells": [
  {
   "cell_type": "code",
   "execution_count": 8,
   "id": "4a6f47bd",
   "metadata": {},
   "outputs": [],
   "source": [
    "ice_cream_rating = 7\n",
    "sleeping_rating = 8"
   ]
  },
  {
   "cell_type": "code",
   "execution_count": 6,
   "id": "b1cd0bf8",
   "metadata": {},
   "outputs": [
    {
     "name": "stdout",
     "output_type": "stream",
     "text": [
      "Enter your first name: Ikenna\n",
      "Enter your surname: Okonkwo\n",
      "Your name is Ikenna Okonkwo\n"
     ]
    }
   ],
   "source": [
    "first_name = input(\"Enter your first name: \")\n",
    "last_name = input(\"Enter your surname: \")\n",
    "my_name = first_name + ' ' + last_name\n",
    "print(\"Your name is \" + my_name)"
   ]
  },
  {
   "cell_type": "code",
   "execution_count": 10,
   "id": "74d922c9",
   "metadata": {},
   "outputs": [],
   "source": [
    "happiness_rating = ((ice_cream_rating + sleeping_rating)/2)\n",
    "happiness_percent = (happiness_rating/10) * 100"
   ]
  },
  {
   "cell_type": "code",
   "execution_count": 12,
   "id": "49f05754",
   "metadata": {},
   "outputs": [
    {
     "name": "stdout",
     "output_type": "stream",
     "text": [
      "\n",
      "My name is Ikenna and I give eating ice cream a 7 out of 10!\n",
      "I am Ikenna Okonkwo and my sleeping enjoyment rating is 8 / 10!\n",
      "Based on the factors above, my happiness rating is 7.5 out of 10, or 75.0 %!\n",
      "\n"
     ]
    }
   ],
   "source": [
    "print(f'''\n",
    "My name is {first_name} and I give eating ice cream a {ice_cream_rating} out of 10!\n",
    "I am {my_name} and my sleeping enjoyment rating is {sleeping_rating} / 10!\n",
    "Based on the factors above, my happiness rating is {happiness_rating} out of 10, or {happiness_percent} %!\n",
    "''')"
   ]
  },
  {
   "cell_type": "code",
   "execution_count": null,
   "id": "5f142950",
   "metadata": {},
   "outputs": [],
   "source": []
  }
 ],
 "metadata": {
  "kernelspec": {
   "display_name": "Python 3 (ipykernel)",
   "language": "python",
   "name": "python3"
  },
  "language_info": {
   "codemirror_mode": {
    "name": "ipython",
    "version": 3
   },
   "file_extension": ".py",
   "mimetype": "text/x-python",
   "name": "python",
   "nbconvert_exporter": "python",
   "pygments_lexer": "ipython3",
   "version": "3.10.3"
  }
 },
 "nbformat": 4,
 "nbformat_minor": 5
}
